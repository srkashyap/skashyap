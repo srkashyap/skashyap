{
 "cells": [
  {
   "cell_type": "code",
   "execution_count": 1,
   "metadata": {},
   "outputs": [],
   "source": [
    "import numpy as np\n",
    "from collections import Counter\n",
    "import string\n",
    "import re\n",
    "import random"
   ]
  },
  {
   "cell_type": "code",
   "execution_count": 2,
   "metadata": {},
   "outputs": [],
   "source": [
    "############### TAKING DATA INPUT AND FORMATTING THE DATA ####################\n",
    "f = open('words3.txt', 'r')\n",
    "content = f.read()\n",
    "xy = content.lower()\n",
    "r1 = xy.replace(\",\", \" \").replace(\"\\n\", \" \").replace(\"*\", \" \").replace(\".\", \" \").replace(\";\", \" \").replace(\"!\", \" \").replace(\":\", \" \")\n",
    "r2 = r1.replace(\" \",\"_\")\n",
    "y = re.split(r\"_\",r2)\n",
    "\n",
    "dict_word={}\n",
    "idx=0\n",
    "for word in y:\n",
    "    if word not in dict_word:\n",
    "        dict_word[word]=idx\n",
    "        idx+=1 \n",
    "############## transition matrix ########################\n",
    "matrix = np.zeros((len(dict_word),len(dict_word)))\n",
    "for i in range(len(y)-1):\n",
    "    matrix[dict_word[y[i]]][dict_word[y[i+1]]]+=1"
   ]
  },
  {
   "cell_type": "code",
   "execution_count": 12,
   "metadata": {},
   "outputs": [
    {
     "name": "stdout",
     "output_type": "stream",
     "text": [
      "Enter the sentence: he is nation of the king the\n",
      "Enter first word: he\n",
      "\n",
      "you mean?\n",
      "\n",
      "he\n",
      "is the king of the nation\n"
     ]
    }
   ],
   "source": [
    "##############  SOLVING JUMBLED SENTENCES USING 1-GRAM MODEL ##############\n",
    "given = input(\"Enter the sentence: \")\n",
    "# print(\"you entered : \", given)\n",
    "type(given)\n",
    "start = input(\"Enter first word: \")\n",
    "# print( start)\n",
    "print(\"\\nyou mean?\\n\")\n",
    "type(start)\n",
    "g0 = given.lower()\n",
    "g1 = g0.replace(\",\", \" \").replace(\"\\n\", \" \").replace(\"*\", \" \").replace(\".\", \" \").replace(\";\", \" \")\n",
    "g2 = g1.replace(\" \",\"_\")\n",
    "g3 = re.split(r\"_\",g2)\n",
    "\n",
    "solved = []\n",
    "x=start\n",
    "probs = []\n",
    "got=g3\n",
    "print(x)\n",
    "for i in range(len(got)):\n",
    "    probs = []\n",
    "    got.remove(x) \n",
    "    for j in got:\n",
    "        probs.append(matrix[dict_word[x]][dict_word[j]])\n",
    "    if(len(got)!=0):\n",
    "        x = got[probs.index(np.max(probs))]\n",
    "        solved.append(x)\n",
    "        #print(x)\n",
    "print(\" \".join(solved))"
   ]
  },
  {
   "cell_type": "code",
   "execution_count": null,
   "metadata": {},
   "outputs": [],
   "source": [
    "'''\n",
    "doesnt work well with nouns\n",
    "no punctuation\n",
    "upper case lower case issue\n",
    "biblical language due to biblical data used for transition mtrix\n",
    "'''"
   ]
  },
  {
   "cell_type": "code",
   "execution_count": 4,
   "metadata": {},
   "outputs": [
    {
     "name": "stdout",
     "output_type": "stream",
     "text": [
      "son university's shootings bedroom poorly first-floor poorly layer freezes 15-year-old murdered chesapeake chesapeake detention victims malone malone 22-caliber rifle capt& elmer elmer detectives michaelson remanding jurist #younger police# 1-1/2-story manor\n"
     ]
    }
   ],
   "source": [
    "###########generating random sentences using 1-gram model#################\n",
    "l = 30\n",
    "key_list = list(dict_word.keys()) \n",
    "val_list = list(dict_word.values()) \n",
    "start=random.choice(y)\n",
    "i=0\n",
    "res=[]\n",
    "\n",
    "while i<l:\n",
    "    res.append(start)\n",
    "    x = key_list[np.argsort(matrix[dict_word[start],:])[l-i]]\n",
    "#     x = key_list[np.argmax(matrix[dict_word[start],:])]\n",
    "    start=x\n",
    "    i+=1\n",
    "print(\" \".join(res))"
   ]
  },
  {
   "cell_type": "code",
   "execution_count": 291,
   "metadata": {},
   "outputs": [
    {
     "name": "stdout",
     "output_type": "stream",
     "text": [
      "the first he put abundantly the one place called night god said kind  of moses                                            \n"
     ]
    }
   ],
   "source": [
    "################# using 2-gram model to generate random sentences ################\n",
    "new = []\n",
    "for i in range(len(y)-1):\n",
    "    new.append(y[i]+\" \"+y[i+1])\n",
    "new_dict = {}\n",
    "ind = 0\n",
    "for word in new:\n",
    "    if word not in new_dict:\n",
    "        new_dict[word] = ind\n",
    "        ind += 1\n",
    "def find_next(start):\n",
    "    temp = np.zeros(len(new_dict))\n",
    "    for pos,word in enumerate(new):\n",
    "        if new[pos-1] == start:\n",
    "            temp[new_dict[word]] += 1\n",
    "    next_word =new[np.argmax(temp)]\n",
    "    return next_word\n",
    "start = random.choice(new)\n",
    "# print(start)\n",
    "sol = []\n",
    "l=30\n",
    "i=0\n",
    "while i<l:\n",
    "    x = find_next(start)\n",
    "    sol.append(x)\n",
    "    start = x\n",
    "    i+=1\n",
    "print(\" \".join(sol))"
   ]
  },
  {
   "cell_type": "code",
   "execution_count": 286,
   "metadata": {},
   "outputs": [
    {
     "name": "stdout",
     "output_type": "stream",
     "text": [
      "he opened the\n",
      "lord commanded moses  wherefore look rebekah heard when the mountain  the bow shall the earth was genesis  chapter                                                                     \n"
     ]
    }
   ],
   "source": [
    "####### 3-gram model################\n",
    "new = []\n",
    "for i in range(len(y)-2):\n",
    "    new.append(y[i]+\" \"+y[i+1]+\" \"+y[i+2])\n",
    "new_dict = {}\n",
    "ind = 0\n",
    "for word in new:\n",
    "    if word not in new_dict:\n",
    "        new_dict[word] = ind\n",
    "        ind += 1\n",
    "def find_next(start):\n",
    "    temp = np.zeros(len(new_dict))\n",
    "    for pos,word in enumerate(new):\n",
    "        if new[pos-1] == start:\n",
    "            temp[new_dict[word]] += 1\n",
    "    next_word =new[np.argmax(temp)]\n",
    "    return next_word\n",
    "start = random.choice(new)\n",
    "print(start)\n",
    "sol = []\n",
    "l=30\n",
    "i=0\n",
    "while i<l:\n",
    "    x = find_next(start)\n",
    "    sol.append(x)\n",
    "    start = x\n",
    "    i+=1\n",
    "print(\" \".join(sol))"
   ]
  },
  {
   "cell_type": "code",
   "execution_count": 275,
   "metadata": {},
   "outputs": [
    {
     "name": "stdout",
     "output_type": "stream",
     "text": [
      "the havana american legion\n",
      "israel  and of in the land of as thou goest unto his heart  i mother lay hold on  according to the is seed for you then can i do thou hast found it bethuel  son of his wife  for flesh of his foreskin brother of eshcol  and reu lived after any more by the they that went in on the earth   called genesis         \n"
     ]
    }
   ],
   "source": [
    "####### 4-gram model################\n",
    "new = []\n",
    "for i in range(len(y)-3):\n",
    "    new.append(y[i]+\" \"+y[i+1]+\" \"+y[i+2]+\" \"+y[i+3])\n",
    "new_dict = {}\n",
    "ind = 0\n",
    "for word in new:\n",
    "    if word not in new_dict:\n",
    "        new_dict[word] = ind\n",
    "        ind += 1\n",
    "def find_next(start):\n",
    "    temp = np.zeros(len(new_dict))\n",
    "    for pos,word in enumerate(new):\n",
    "        if new[pos-1] == start:\n",
    "            temp[new_dict[word]] += 1\n",
    "    next_word =new[np.argmax(temp)]\n",
    "    return next_word\n",
    "start = random.choice(new)\n",
    "print(start)\n",
    "sol = []\n",
    "l=20\n",
    "i=0\n",
    "while i<l:\n",
    "    x = find_next(start)\n",
    "    sol.append(x)\n",
    "    start = x\n",
    "    i+=1\n",
    "print(\" \".join(sol))"
   ]
  },
  {
   "cell_type": "code",
   "execution_count": null,
   "metadata": {},
   "outputs": [],
   "source": []
  }
 ],
 "metadata": {
  "kernelspec": {
   "display_name": "Python 3",
   "language": "python",
   "name": "python3"
  },
  "language_info": {
   "codemirror_mode": {
    "name": "ipython",
    "version": 3
   },
   "file_extension": ".py",
   "mimetype": "text/x-python",
   "name": "python",
   "nbconvert_exporter": "python",
   "pygments_lexer": "ipython3",
   "version": "3.7.1"
  }
 },
 "nbformat": 4,
 "nbformat_minor": 2
}
